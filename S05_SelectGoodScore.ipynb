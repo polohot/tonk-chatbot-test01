{
 "cells": [
  {
   "cell_type": "code",
   "execution_count": 2,
   "metadata": {},
   "outputs": [],
   "source": [
    "import os\n",
    "import tqdm\n",
    "import pandas as pd"
   ]
  },
  {
   "cell_type": "code",
   "execution_count": 3,
   "metadata": {},
   "outputs": [
    {
     "data": {
      "text/plain": [
       "['Industrial_Gas_Turbines_AMY_Razak',\n",
       " 'msd_servo_drive',\n",
       " 'pcs7_compendium_part_a_en-US_en-US',\n",
       " 'pcs7_compendium_part_b_en-US_en-US']"
      ]
     },
     "execution_count": 3,
     "metadata": {},
     "output_type": "execute_result"
    }
   ],
   "source": [
    "docFolderDir = './S04_AnswerScoring/'\n",
    "lsDocDir = [f for f in os.listdir(docFolderDir)]\n",
    "lsDocDir"
   ]
  },
  {
   "cell_type": "code",
   "execution_count": null,
   "metadata": {},
   "outputs": [
    {
     "name": "stdout",
     "output_type": "stream",
     "text": [
      "Industrial_Gas_Turbines_AMY_Razak\n"
     ]
    },
    {
     "name": "stderr",
     "output_type": "stream",
     "text": [
      "100%|██████████| 381/381 [00:01<00:00, 281.51it/s]\n"
     ]
    },
    {
     "name": "stdout",
     "output_type": "stream",
     "text": [
      "msd_servo_drive\n"
     ]
    },
    {
     "name": "stderr",
     "output_type": "stream",
     "text": [
      " 73%|███████▎  | 182/250 [00:00<00:00, 341.30it/s]"
     ]
    }
   ],
   "source": [
    "lsALL = []\n",
    "\n",
    "for i in range(len(lsDocDir)):\n",
    "    docfolder = lsDocDir[i]\n",
    "    print(docfolder)\n",
    "    # LIST ALL CSV IN FOLDER\n",
    "    lscsv = [f for f in os.listdir(f\"./S04_AnswerScoring/{docfolder}\") if f.endswith('.csv')]\n",
    "    # LOAD INTO BIG DF\n",
    "    lsdf = []\n",
    "    for j in tqdm.tqdm(range(len(lscsv))):\n",
    "        csvname = lscsv[j]\n",
    "        df = pd.read_csv(f\"./S04_AnswerScoring/{docfolder}/{csvname}\")\n",
    "        if 'Unnamed: 0' in df.columns:\n",
    "            df = df.drop('Unnamed: 0', axis=1)\n",
    "        lsdf.append(df)\n",
    "    # CONCAT\n",
    "    dfANS = pd.concat(lsdf)\n",
    "    # WEIGHTED SCORE\n",
    "    dfANS['WEIGHTED_SCORE'] = (0.3*dfANS['helpfulness']) + (0.3*dfANS['correctness']) + (0.2*dfANS['coherence']) + (0.1*dfANS['complexity']) + (-0.1*dfANS['verbosity'])\n",
    "    # MARK BEST SCORE\n",
    "    dfANS['MAX'] = dfANS.groupby(['NODE_HASH', 'Q'])['WEIGHTED_SCORE'].transform(lambda x: x == x.max()).replace({True: 'Y', False: ''})\n",
    "    # FILTER ONLY BEST\n",
    "    dfANS = dfANS[dfANS['MAX'] == 'Y']\n",
    "    # SAVE\n",
    "    dfANS.to_csv(f\"./S05_SelectGoodScore/{docfolder}.csv\", index=False)\n",
    "    lsALL.append(dfANS)\n",
    "\n",
    "# CONCAT ALL\n",
    "dfALLALL = pd.concat(lsALL)\n",
    "dfALLALL['INPUT'] = dfALLALL['Q']\n",
    "dfALLALL['OUTPUT'] = dfALLALL['A']\n",
    "dfALLALL = dfALLALL[['INPUT', 'OUTPUT']]\n",
    "\n",
    "# SAVE\n",
    "dfALLALL.to_csv(f\"./S05_SelectGoodScore/ALLALL.csv\", index=False)"
   ]
  }
 ],
 "metadata": {
  "kernelspec": {
   "display_name": "py312-tonk-chatbot",
   "language": "python",
   "name": "python3"
  },
  "language_info": {
   "codemirror_mode": {
    "name": "ipython",
    "version": 3
   },
   "file_extension": ".py",
   "mimetype": "text/x-python",
   "name": "python",
   "nbconvert_exporter": "python",
   "pygments_lexer": "ipython3",
   "version": "3.12.9"
  }
 },
 "nbformat": 4,
 "nbformat_minor": 2
}
