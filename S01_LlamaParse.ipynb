{
 "cells": [
  {
   "cell_type": "code",
   "execution_count": 2,
   "metadata": {},
   "outputs": [],
   "source": [
    "# llama-parse is async-first, running the sync code in a notebook requires the use of nest_asyncio\n",
    "import nest_asyncio\n",
    "nest_asyncio.apply()"
   ]
  },
  {
   "cell_type": "code",
   "execution_count": 3,
   "metadata": {},
   "outputs": [],
   "source": [
    "from llama_cloud_services import LlamaParse\n",
    "import json\n",
    "import os"
   ]
  },
  {
   "cell_type": "code",
   "execution_count": 4,
   "metadata": {},
   "outputs": [
    {
     "data": {
      "text/plain": [
       "['Industrial Gas Turbines AMY_Razak.pdf',\n",
       " 'msd_servo_drive.pdf',\n",
       " 'pcs7_compendium_part_a_en-US_en-US.pdf',\n",
       " 'pcs7_compendium_part_b_en-US_en-US.pdf']"
      ]
     },
     "execution_count": 4,
     "metadata": {},
     "output_type": "execute_result"
    }
   ],
   "source": [
    "pdf_dir = './S00_RawPdfs/'\n",
    "lspdf = [f for f in os.listdir(pdf_dir) if f.endswith('.pdf')]\n",
    "lspdf"
   ]
  },
  {
   "cell_type": "code",
   "execution_count": null,
   "metadata": {},
   "outputs": [
    {
     "name": "stdout",
     "output_type": "stream",
     "text": [
      "0 Industrial Gas Turbines AMY_Razak.pdf\n",
      "Started parsing the file under job_id be2c941b-780d-44cc-8c13-926f9d53662f\n"
     ]
    }
   ],
   "source": [
    "for i in range(len(lspdf)):\n",
    "    pdfName = lspdf[i]\n",
    "    print(i,pdfName)\n",
    "    documents = LlamaParse(result_type=\"markdown\").load_data(f\"{pdf_dir}{pdfName}\")\n",
    "    alltxt = '\\n\\n'.join([x.text for x in documents])\n",
    "    textname = pdfName.replace('.pdf','.txt').replace(' ','_')\n",
    "    with open(f\"./S01_LlamaParsedMarkdownText/{textname}\",'w') as output:\n",
    "        output.write(alltxt)\n",
    "    print('')"
   ]
  },
  {
   "cell_type": "code",
   "execution_count": null,
   "metadata": {},
   "outputs": [
    {
     "name": "stdout",
     "output_type": "stream",
     "text": [
      "0 Industrial Gas Turbines AMY_Razak.pdf\n",
      "Started parsing the file under job_id 974add15-fbef-452c-b8b1-153d5cb8e391\n",
      "\n",
      "1 msd_servo_drive.pdf\n",
      "Started parsing the file under job_id efa4059f-fa8e-45ed-8ea9-2b6811f478f6\n",
      "................\n",
      "2 pcs7_compendium_part_a_en-US_en-US.pdf\n",
      "Started parsing the file under job_id 5e04b802-78f2-4420-be57-a2261cf4b94b\n",
      ".\n",
      "3 pcs7_compendium_part_b_en-US_en-US.pdf\n",
      "Started parsing the file under job_id 2ba5f7f5-76c6-43aa-b9d1-b6f8046dfe31\n",
      "...\n"
     ]
    }
   ],
   "source": [
    "# import json\n",
    "\n",
    "# for i in range(len(pdfs)):\n",
    "#     pdfName = pdfs[i]\n",
    "#     print(i,pdfName)\n",
    "#     documents = LlamaParse(result_type=\"markdown\").load_data(f\"{pdf_path}{pdfName}\")\n",
    "#     alltxt = '\\n\\n'.join([x.text for x in documents])\n",
    "#     outjson = {'FILE_NAME':pdfName,\n",
    "#             'ALL_TEXT':alltxt}\n",
    "#     jsonname = pdfName.replace('.pdf','.json').replace(' ','_')\n",
    "#     with open(f\"./parsedPdfs/{jsonname}\",'w') as json_file:\n",
    "#         json.dump(outjson, json_file, indent=4)\n",
    "#     print('')"
   ]
  }
 ],
 "metadata": {
  "kernelspec": {
   "display_name": "py312-tonk-chatbot",
   "language": "python",
   "name": "python3"
  },
  "language_info": {
   "codemirror_mode": {
    "name": "ipython",
    "version": 3
   },
   "file_extension": ".py",
   "mimetype": "text/x-python",
   "name": "python",
   "nbconvert_exporter": "python",
   "pygments_lexer": "ipython3",
   "version": "3.12.9"
  }
 },
 "nbformat": 4,
 "nbformat_minor": 2
}
