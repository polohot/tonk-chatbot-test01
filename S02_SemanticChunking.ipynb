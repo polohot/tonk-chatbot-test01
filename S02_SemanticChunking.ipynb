{
 "cells": [
  {
   "cell_type": "code",
   "execution_count": 1,
   "metadata": {},
   "outputs": [],
   "source": [
    "# llama-parse is async-first, running the sync code in a notebook requires the use of nest_asyncio\n",
    "import nest_asyncio\n",
    "nest_asyncio.apply()"
   ]
  },
  {
   "cell_type": "code",
   "execution_count": 2,
   "metadata": {},
   "outputs": [],
   "source": [
    "from llama_index.embeddings.openai import OpenAIEmbedding\n",
    "from llama_index.core.node_parser import SemanticSplitterNodeParser\n",
    "from llama_index.core import SimpleDirectoryReader\n",
    "import json\n",
    "import os"
   ]
  },
  {
   "cell_type": "code",
   "execution_count": 3,
   "metadata": {},
   "outputs": [],
   "source": [
    "# SELECT EMBED MODEL\n",
    "embed_model = OpenAIEmbedding(model='text-embedding-3-large')\n",
    "# INIT SPLITTER MODEL\n",
    "splitter = SemanticSplitterNodeParser(buffer_size=1, \n",
    "                                      breakpoint_percentile_threshold=95, \n",
    "                                      embed_model=embed_model)"
   ]
  },
  {
   "cell_type": "code",
   "execution_count": null,
   "metadata": {},
   "outputs": [
    {
     "data": {
      "text/plain": [
       "['Industrial_Gas_Turbines_AMY_Razak.txt',\n",
       " 'msd_servo_drive.txt',\n",
       " 'pcs7_compendium_part_a_en-US_en-US.txt',\n",
       " 'pcs7_compendium_part_b_en-US_en-US.txt']"
      ]
     },
     "execution_count": 56,
     "metadata": {},
     "output_type": "execute_result"
    }
   ],
   "source": [
    "# txt_dir = './S01_LlamaParsedMarkdownText/'\n",
    "# lstxt = [f for f in os.listdir(txt_dir) if f.endswith('.txt')]\n",
    "# lstxt"
   ]
  },
  {
   "cell_type": "code",
   "execution_count": 4,
   "metadata": {},
   "outputs": [
    {
     "name": "stdout",
     "output_type": "stream",
     "text": [
      "4\n"
     ]
    },
    {
     "data": {
      "text/plain": [
       "['Industrial_Gas_Turbines_AMY_Razak.txt',\n",
       " 'msd_servo_drive.txt',\n",
       " 'pcs7_compendium_part_a_en-US_en-US.txt',\n",
       " 'pcs7_compendium_part_b_en-US_en-US.txt']"
      ]
     },
     "execution_count": 4,
     "metadata": {},
     "output_type": "execute_result"
    }
   ],
   "source": [
    "# LOAD TEXT FILES\n",
    "documents = SimpleDirectoryReader(input_dir='./S01_LlamaParsedMarkdownText/').load_data()\n",
    "# PRINT\n",
    "print(len(documents))\n",
    "[x.metadata['file_name'] for x in documents]"
   ]
  },
  {
   "cell_type": "code",
   "execution_count": null,
   "metadata": {},
   "outputs": [],
   "source": [
    "for i in range(len(documents)):\n",
    "    # PREP\n",
    "    doc = documents[i]\n",
    "    filename = doc.metadata['file_name']\n",
    "    print(i,filename)\n",
    "    # SEMANTIC SPLIT\n",
    "    nodes = splitter.get_nodes_from_documents([doc])\n",
    "    nodes_json = [node.to_dict() for node in nodes]   \n",
    "    # SAVE JSON\n",
    "    output_name = filename.replace('.txt','.json')\n",
    "    output_path = f\"./S02_SemanticChunkedJson/{output_name}\"\n",
    "    with open(output_path, 'w') as f:\n",
    "        json.dump(nodes_json, f)\n",
    "    print(i,output_name)\n",
    "    print('')"
   ]
  },
  {
   "cell_type": "code",
   "execution_count": null,
   "metadata": {},
   "outputs": [],
   "source": []
  },
  {
   "cell_type": "code",
   "execution_count": null,
   "metadata": {},
   "outputs": [],
   "source": [
    "# from llama_index.core.schema import TextNode\n",
    "\n",
    "# with open(output_path) as f:\n",
    "#     nodes_json = json.load(f) \n",
    "\n",
    "# nodes = [TextNode.from_dict(node_dict) for node_dict in nodes_json]"
   ]
  }
 ],
 "metadata": {
  "kernelspec": {
   "display_name": "py312-tonk-chatbot",
   "language": "python",
   "name": "python3"
  },
  "language_info": {
   "codemirror_mode": {
    "name": "ipython",
    "version": 3
   },
   "file_extension": ".py",
   "mimetype": "text/x-python",
   "name": "python",
   "nbconvert_exporter": "python",
   "pygments_lexer": "ipython3",
   "version": "3.12.9"
  }
 },
 "nbformat": 4,
 "nbformat_minor": 2
}
